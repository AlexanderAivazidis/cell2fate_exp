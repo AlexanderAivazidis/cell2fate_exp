{
 "cells": [
  {
   "cell_type": "code",
   "execution_count": 1,
   "id": "946d7bfd",
   "metadata": {},
   "outputs": [
    {
     "name": "stderr",
     "output_type": "stream",
     "text": [
      "Global seed set to 0\n"
     ]
    }
   ],
   "source": [
    "import cell2fate as c2f\n",
    "import scanpy as sc\n",
    "import numpy as np\n",
    "import os\n",
    "import matplotlib.pyplot as plt\n",
    "data_name = 'HumanDevelopingBrain'"
   ]
  },
  {
   "cell_type": "code",
   "execution_count": 2,
   "id": "8a8f111a",
   "metadata": {},
   "outputs": [],
   "source": [
    "# Where to get data from and where to save results (you need to modify this)\n",
    "data_path = '/nfs/team283/aa16/data/fate_benchmarking/benchmarking_datasets/HumanDevelopingBrain/'\n",
    "results_path = '/nfs/team283/aa16/cell2fate_paper_results/HumanDevelopingBrain/'"
   ]
  },
  {
   "cell_type": "code",
   "execution_count": 3,
   "id": "b45c84fc",
   "metadata": {},
   "outputs": [
    {
     "data": {
      "text/plain": [
       "0"
      ]
     },
     "execution_count": 3,
     "metadata": {},
     "output_type": "execute_result"
    }
   ],
   "source": [
    "# Downloading data into specified directory:\n",
    "os.system('cd ' + data_path + ' && wget -q https://cell2fate.cog.sanger.ac.uk/' + data_name + '/' + data_name + '_anndata.h5ad')"
   ]
  },
  {
   "cell_type": "markdown",
   "id": "14a89adc",
   "metadata": {},
   "source": [
    "Load the data and extract most variable genes (and optionally remove some clusters)."
   ]
  },
  {
   "cell_type": "code",
   "execution_count": 4,
   "id": "edd8188a",
   "metadata": {},
   "outputs": [
    {
     "name": "stdout",
     "output_type": "stream",
     "text": [
      "Keeping at most 100000 cells per cluster\n",
      "Filtered out 17336 genes that are detected 20 counts (shared).\n",
      "Extracted 3000 highly variable genes.\n"
     ]
    }
   ],
   "source": [
    "adata = sc.read_h5ad(data_path + data_name + '_anndata.h5ad')\n",
    "clusters_to_remove = []\n",
    "adata = c2f.utils.get_training_data(adata, cells_per_cluster = 10**5, cluster_column = 'clusters',\n",
    "                                    remove_clusters = clusters_to_remove,\n",
    "                                min_shared_counts = 20, n_var_genes= 3000)"
   ]
  },
  {
   "cell_type": "code",
   "execution_count": 5,
   "id": "bed72d9c",
   "metadata": {},
   "outputs": [
    {
     "data": {
      "text/plain": [
       "AnnData object with n_obs × n_vars = 9443 × 3000\n",
       "    obs: 'Age', 'Code of spatial sample', 'Condition', 'DoubletScore', 'ExperimentDate', 'Parent_sample_ID', 'Patient no', 'PredictedDoublets', 'Replicate_ID', 'Sample_ID', 'Sanger_sample_ID', 'Sex', 'Size', 'Spatial info', 'Target_no_cells', 'batch', 'n_genes', 'sample_id_useful1', 'sample_id_useful2', 'sample_id_useful3', 'n_genes_by_counts', 'log1p_n_genes_by_counts', 'total_counts', 'log1p_total_counts', 'total_counts_mt', 'log1p_total_counts_mt', 'pct_counts_mt', 'clusters', 'initial_size_spliced', 'initial_size_unspliced', 'initial_size'\n",
       "    var: 'gene_ids', 'n_cells', 'mt', 'n_cells_by_counts', 'mean_counts', 'log1p_mean_counts', 'pct_dropout_by_counts', 'total_counts', 'log1p_total_counts', 'means', 'dispersions', 'dispersions_norm', 'highly_variable'\n",
       "    uns: 'clusters_colors', 'sample_id_useful3_colors'\n",
       "    obsm: 'X_umap'\n",
       "    layers: 'spliced', 'unspliced'"
      ]
     },
     "execution_count": 5,
     "metadata": {},
     "output_type": "execute_result"
    }
   ],
   "source": [
    "adata"
   ]
  },
  {
   "cell_type": "code",
   "execution_count": null,
   "id": "72584341",
   "metadata": {},
   "outputs": [
    {
     "name": "stdout",
     "output_type": "stream",
     "text": [
      "Leiden clustering ...\n",
      "WARNING: You’re trying to run this on 531 dimensions of `.X`, if you really want this, set `use_rep='X'`.\n",
      "         Falling back to preprocessing with `sc.pp.pca` and default params.\n"
     ]
    },
    {
     "name": "stderr",
     "output_type": "stream",
     "text": [
      "2023-07-21 13:31:03.565091: W tensorflow/compiler/xla/stream_executor/platform/default/dso_loader.cc:64] Could not load dynamic library 'libnvinfer.so.7'; dlerror: libnvinfer.so.7: cannot open shared object file: No such file or directory; LD_LIBRARY_PATH: /software/gcc-8.2.0/lib64/\n",
      "2023-07-21 13:31:03.565273: W tensorflow/compiler/xla/stream_executor/platform/default/dso_loader.cc:64] Could not load dynamic library 'libnvinfer_plugin.so.7'; dlerror: libnvinfer_plugin.so.7: cannot open shared object file: No such file or directory; LD_LIBRARY_PATH: /software/gcc-8.2.0/lib64/\n",
      "2023-07-21 13:31:03.565296: W tensorflow/compiler/tf2tensorrt/utils/py_utils.cc:38] TF-TRT Warning: Cannot dlopen some TensorRT libraries. If you would like to use Nvidia GPU with TensorRT, please make sure the missing libraries mentioned above are installed properly.\n"
     ]
    }
   ],
   "source": [
    "n_modules = c2f.utils.get_max_modules(adata)"
   ]
  },
  {
   "cell_type": "markdown",
   "id": "b191a3c2",
   "metadata": {},
   "source": [
    "Overview of the dataset on a UMAP, coloured by cluster assingment."
   ]
  },
  {
   "cell_type": "code",
   "execution_count": null,
   "id": "15648c40",
   "metadata": {},
   "outputs": [],
   "source": [
    "fig, ax = plt.subplots(1,1, figsize = (6, 4))\n",
    "sc.pl.umap(adata, color = ['clusters'], s = 200, legend_loc='on data', show = False, ax = ax)\n",
    "plt.savefig(results_path + data_name + 'UMAP_clusters.pdf')"
   ]
  },
  {
   "cell_type": "markdown",
   "id": "9c7137ae",
   "metadata": {},
   "source": [
    "As usual in the scvi-tools workflow we register the anndata object ..."
   ]
  },
  {
   "cell_type": "code",
   "execution_count": null,
   "id": "79e77bfb",
   "metadata": {},
   "outputs": [],
   "source": [
    "c2f.Cell2fate_DynamicalModel.setup_anndata(adata, spliced_label='spliced', unspliced_label='unspliced',\n",
    "                                           batch_key = 'Sanger_sample_ID')"
   ]
  },
  {
   "cell_type": "markdown",
   "id": "7638c0d5",
   "metadata": {},
   "source": [
    "... and initialize the model:"
   ]
  },
  {
   "cell_type": "code",
   "execution_count": null,
   "id": "10b1ce84",
   "metadata": {
    "scrolled": true
   },
   "outputs": [],
   "source": [
    "mod = c2f.Cell2fate_DynamicalModel(adata, n_modules = n_modules)"
   ]
  },
  {
   "cell_type": "markdown",
   "id": "0bd3e31b",
   "metadata": {},
   "source": [
    "Let's have a look at the anndata setup:"
   ]
  },
  {
   "cell_type": "code",
   "execution_count": null,
   "id": "80af8939",
   "metadata": {},
   "outputs": [],
   "source": [
    "mod.view_anndata_setup()"
   ]
  },
  {
   "cell_type": "markdown",
   "id": "c84c6061",
   "metadata": {},
   "source": [
    "Training the model:"
   ]
  },
  {
   "cell_type": "code",
   "execution_count": null,
   "id": "d6acba68",
   "metadata": {},
   "outputs": [],
   "source": [
    "mod.train()"
   ]
  },
  {
   "cell_type": "markdown",
   "id": "f1a41aab",
   "metadata": {},
   "source": [
    "We plot training history over multiple windows to effectively assess convergence (which is not reached here but it is close.)"
   ]
  },
  {
   "cell_type": "code",
   "execution_count": null,
   "id": "bfbbd27a",
   "metadata": {},
   "outputs": [],
   "source": [
    "mod.view_history()"
   ]
  },
  {
   "cell_type": "markdown",
   "id": "63f611a0",
   "metadata": {},
   "source": [
    "Here we export the model posterior to the anndata object:"
   ]
  },
  {
   "cell_type": "code",
   "execution_count": null,
   "id": "e9529eed",
   "metadata": {},
   "outputs": [],
   "source": [
    "adata = mod.export_posterior(adata)"
   ]
  },
  {
   "cell_type": "markdown",
   "id": "8f170b33",
   "metadata": {},
   "source": [
    "One of the interesting parameter posteriors that was saved to the anndata object is the differentiation time:"
   ]
  },
  {
   "cell_type": "code",
   "execution_count": null,
   "id": "d7b0b67f",
   "metadata": {},
   "outputs": [],
   "source": [
    "fig, ax = plt.subplots(1,2, figsize = (15, 5))\n",
    "sc.pl.umap(adata, color = ['Time (hours)'], legend_loc = 'right margin',\n",
    "                size = 200, color_map = 'inferno', ncols = 2, show = False, ax = ax[0], vmin = 0, vmax = 200)\n",
    "sc.pl.umap(adata, color = ['Time Uncertainty (sd)'], legend_loc = 'right margin',\n",
    "                size = 200, color_map = 'inferno', ncols = 2, show = False, ax = ax[1], vmax = 3)\n",
    "plt.savefig(results_path + data_name + 'UMAP_Time.pdf')"
   ]
  },
  {
   "cell_type": "code",
   "execution_count": null,
   "id": "fb012923",
   "metadata": {},
   "outputs": [],
   "source": [
    "adata_subset = adata[adata.obs['Time (hours)'] < 110]\n",
    "fig, ax = plt.subplots(1,2, figsize = (15, 5))\n",
    "sc.pl.umap(adata_subset, color = ['Time (hours)'], legend_loc = 'right margin',\n",
    "                size = 200, color_map = 'inferno', ncols = 2, show = False, ax = ax[0], vmin = 0, vmax = 200)\n",
    "plt.savefig(results_path + data_name + 'UMAP_Time2.pdf')"
   ]
  },
  {
   "cell_type": "code",
   "execution_count": null,
   "id": "f4a94a8c",
   "metadata": {},
   "outputs": [],
   "source": [
    "adata_subset = adata[adata.obs['Time (hours)'] > 120]\n",
    "fig, ax = plt.subplots(1,2, figsize = (15, 5))\n",
    "sc.pl.umap(adata_subset, color = ['Time (hours)'], legend_loc = 'right margin',\n",
    "                size = 200, color_map = 'inferno', ncols = 2, show = False, ax = ax[0], vmin = 0, vmax = 200)\n",
    "plt.savefig(results_path + data_name + 'UMAP_Time3.pdf')"
   ]
  },
  {
   "cell_type": "markdown",
   "id": "d4ce3c66",
   "metadata": {},
   "source": [
    "We can compute some module statistics to visualize the activity of the underlying modules:"
   ]
  },
  {
   "cell_type": "code",
   "execution_count": null,
   "id": "87cd728e",
   "metadata": {},
   "outputs": [],
   "source": [
    "adata = mod.compute_module_summary_statistics(adata)"
   ]
  },
  {
   "cell_type": "code",
   "execution_count": null,
   "id": "52e4ea46",
   "metadata": {},
   "outputs": [],
   "source": [
    "mod.plot_module_summary_statistics(adata, save = results_path + data_name + 'module_summary_stats_plot.pdf')"
   ]
  },
  {
   "cell_type": "code",
   "execution_count": null,
   "id": "ae6549f3",
   "metadata": {},
   "outputs": [],
   "source": [
    "mod.compare_module_activation(adata, chosen_modules = [0,1,2,3,4,5,6], time_max = 110, time_min = 0,\n",
    "                         save = results_path + data_name + 'module_activation_comparison.pdf')"
   ]
  },
  {
   "cell_type": "markdown",
   "id": "520fe0e4",
   "metadata": {},
   "source": [
    "And of course we can make the usual visualization of total RNAvelocity on a UMAP:"
   ]
  },
  {
   "cell_type": "code",
   "execution_count": null,
   "id": "5bcd0c9b",
   "metadata": {},
   "outputs": [],
   "source": [
    "mod.compute_and_plot_total_velocity(adata, save = results_path + data_name + 'total_velocity_plots.png')"
   ]
  },
  {
   "cell_type": "markdown",
   "id": "ac035cbb",
   "metadata": {},
   "source": [
    "To make the plot look the same in style as the scvleo plots:"
   ]
  },
  {
   "cell_type": "code",
   "execution_count": null,
   "id": "04d8ba2a",
   "metadata": {},
   "outputs": [],
   "source": [
    "adata.obs['clusters'] = adata.obs['clusters'].astype(str)\n",
    "adata.obs['clusters'].loc[adata.obs['clusters'] == 'Intermediate \\n Progenitor'] = 'Intermediate Progenitor'"
   ]
  },
  {
   "cell_type": "code",
   "execution_count": null,
   "id": "996c7eb5",
   "metadata": {},
   "outputs": [],
   "source": [
    "import scvelo as scv\n",
    "fix, ax = plt.subplots(1, 1, figsize = (8, 6))\n",
    "scv.pl.velocity_embedding_stream(adata, basis='umap', save = False, vkey='Velocity',\n",
    "                                 show = False, ax = ax, legend_fontsize = 13)\n",
    "plt.savefig(results_path + data_name + 'total_velocity_plots.png')"
   ]
  },
  {
   "cell_type": "markdown",
   "id": "508bc2d0",
   "metadata": {},
   "source": [
    "Technical variables usually show lower detection efficiency and higher noise (= lower overdispersion parameter) for unspliced counts:"
   ]
  },
  {
   "cell_type": "code",
   "execution_count": null,
   "id": "434b5b1d",
   "metadata": {},
   "outputs": [],
   "source": [
    "mod.plot_technical_variables(adata, save = results_path + data_name + 'technical_variables_overview_plot.pdf')"
   ]
  },
  {
   "cell_type": "markdown",
   "id": "ef0a7a0d",
   "metadata": {},
   "source": [
    "This is how to have a look at the various rate parameters the optimization converged to:"
   ]
  },
  {
   "cell_type": "code",
   "execution_count": null,
   "id": "e937bade",
   "metadata": {},
   "outputs": [],
   "source": [
    "print('A_mgON mean:', np.mean(mod.samples['post_sample_means']['A_mgON']))\n",
    "print('gamma_g mean:', np.mean(mod.samples['post_sample_means']['gamma_g']))\n",
    "print('beta_g mean:', np.mean(mod.samples['post_sample_means']['beta_g']))\n",
    "print('lam_mi, all modules: \\n \\n', np.round(mod.samples['post_sample_means']['lam_mi'],2))"
   ]
  },
  {
   "cell_type": "markdown",
   "id": "24c98079",
   "metadata": {},
   "source": [
    "This method returns orders the genes and TFs in each module from most to least enriched. And it also performs gene set enrichment analysis:"
   ]
  },
  {
   "cell_type": "code",
   "execution_count": null,
   "id": "0a0b58c5",
   "metadata": {},
   "outputs": [],
   "source": [
    "tab, all_results = mod.get_module_top_features(adata, p_adj_cutoff=0.05, species = 'Human', background = adata.var_names)\n",
    "tab.to_csv(results_path + data_name + 'module_top_features_table.csv')\n",
    "tab"
   ]
  },
  {
   "cell_type": "code",
   "execution_count": null,
   "id": "49e16c8b",
   "metadata": {},
   "outputs": [],
   "source": [
    "mod.plot_top_features(adata, tab, chosen_modules = [0,1,2,3,4,5,6,7,8,9,10,11], mode = 'all genes',\n",
    "                      n_top_features = 2, process = True,\n",
    "                      save = results_path + data_name + 'top_2_gene_allModules_plot.png')"
   ]
  },
  {
   "cell_type": "code",
   "execution_count": null,
   "id": "6e2cdf13",
   "metadata": {},
   "outputs": [],
   "source": [
    "mod.plot_top_features(adata, tab, chosen_modules = [0,1,2,3,4,5,6], mode = 'TFs',\n",
    "                      n_top_features = 3, process = False,\n",
    "                      save = results_path + data_name + 'top_TFs_plot_1to7.pdf')"
   ]
  },
  {
   "cell_type": "markdown",
   "id": "66db7218",
   "metadata": {},
   "source": [
    "We save the steady-state gene expression of each module for later use with cell2location:"
   ]
  },
  {
   "cell_type": "code",
   "execution_count": null,
   "id": "bb5ad916",
   "metadata": {},
   "outputs": [],
   "source": [
    "import pandas as pd\n",
    "pd.DataFrame(mod.samples['post_sample_means']['g_fg'].T,\n",
    "             columns = np.array(['Module ' + str(m) for m in range(n_modules)]),\n",
    "             index = adata.var_names).to_csv(results_path + data_name + 'modules.csv')"
   ]
  },
  {
   "cell_type": "markdown",
   "id": "1b6cf987",
   "metadata": {},
   "source": [
    "Show expression of neuron layer marker genes:"
   ]
  },
  {
   "cell_type": "code",
   "execution_count": null,
   "id": "240bc7a9",
   "metadata": {},
   "outputs": [],
   "source": [
    "sc.pl.umap(adata, color = ['clusters', 'CUX2', 'RORB', 'BCL11B', 'TBR1'], s = 200, legend_loc='on data', show = True, ncols = 5, save = False)"
   ]
  },
  {
   "cell_type": "markdown",
   "id": "dc394894",
   "metadata": {},
   "source": [
    "Visualize top module genes in a heatmap over time:"
   ]
  },
  {
   "cell_type": "code",
   "execution_count": null,
   "id": "a08954a9",
   "metadata": {},
   "outputs": [],
   "source": [
    "from matplotlib import gridspec\n",
    "\n",
    "def plot_markers_vs_time(mod, adata, chosen_modules, top_genes, time_min = None, time_max = None):\n",
    "\n",
    "    adata.X = adata.layers['unspliced'] + adata.layers['spliced']\n",
    "    sc.pp.normalize_total(adata, target_sum=1e4)\n",
    "    sc.pp.log1p(adata)\n",
    "    sc.pp.scale(adata, max_value=10)\n",
    "    \n",
    "    if time_max:\n",
    "        adata_subset = adata[adata.obs['Time (hours)'] < time_max]\n",
    "    if time_min:\n",
    "        adata_subset = adata[adata.obs['Time (hours)'] > time_min]\n",
    "    adata_subset = adata_subset[np.argsort(adata_subset.obs['Time (hours)']),:]\n",
    "\n",
    "    adata_subset.var['Module Marker'] = 'No'\n",
    "    adata_subset.var['Module Marker'] = adata_subset.var['Module Marker'].astype(str)\n",
    "    for m in chosen_modules:\n",
    "        subset = [g in tab.loc[m, 'Genes Ranked'].split(', ')[:top_genes] for g in adata.var_names]\n",
    "        adata_subset.var['Module Marker'][subset] = str(m)\n",
    "\n",
    "    adata_subset = adata_subset[adata_subset.obs['clusters'] != 'Radial Glia',:]\n",
    "    adata_subset = adata_subset[adata_subset.obs['clusters'] != 'Intermediate Progenitor',:]\n",
    "\n",
    "    markers = []\n",
    "    for m in chosen_modules:\n",
    "        markers += list(adata_subset.var_names[adata_subset.var['Module Marker'] == str(m)])\n",
    "    var_names = markers\n",
    "    subset = [np.where(adata_subset.var_names == m)[0][0] for m in markers]\n",
    "    obs_tidy = adata_subset.X[:,subset].T\n",
    "    obs_tidy2 = np.sum(mod.samples['post_sample_means']['mu_expression'], axis = -1)\n",
    "    time = mod.samples['post_sample_means']['T_c'][:,0,0]\n",
    "    obs_tidy2 = obs_tidy2[np.argsort(time),:]\n",
    "    time = time[np.argsort(time)]\n",
    "    obs_tidy2 = obs_tidy2[time < 110,:]\n",
    "    obs_tidy = obs_tidy2[:,subset].T\n",
    "    obs_tidy = obs_tidy/np.expand_dims(np.max(obs_tidy, axis = 1), axis = -1)\n",
    "\n",
    "    width = 10\n",
    "    height = 10\n",
    "    fig = plt.figure(figsize=(width, height))\n",
    "\n",
    "    dendro_width = 0\n",
    "    groupby_width = 0\n",
    "    heatmap_width = 8\n",
    "    colorbar_width = 0.2\n",
    "\n",
    "    width_ratios = [\n",
    "        groupby_width,\n",
    "        heatmap_width,\n",
    "        dendro_width,\n",
    "        colorbar_width,\n",
    "    ]\n",
    "\n",
    "    height = 6\n",
    "    height_ratios = [0, height]\n",
    "\n",
    "    axs = gridspec.GridSpec(\n",
    "        nrows=2,\n",
    "        ncols=4,\n",
    "        width_ratios=width_ratios,\n",
    "        wspace=0.15 / width,\n",
    "        hspace=0.13 / height,\n",
    "        height_ratios=height_ratios,\n",
    "    )\n",
    "\n",
    "    heatmap_ax = fig.add_subplot(axs[1, 1])\n",
    "    im = heatmap_ax.imshow(obs_tidy, aspect='auto', cmap='jet')\n",
    "    heatmap_ax.set_ylim(obs_tidy.shape[0] - 0.5, -0.5)\n",
    "    heatmap_ax.set_xlim(-0.5, obs_tidy.shape[1] - 0.5)\n",
    "    heatmap_ax.tick_params(axis='y', left=False, labelleft=False)\n",
    "    heatmap_ax.set_ylabel('')\n",
    "    heatmap_ax.grid(False)\n",
    "\n",
    "    groupby_ax = fig.add_subplot(axs[0, 1])\n",
    "    groupby_ax.tick_params(axis='both', labelright = False, right = False, left=False, labelleft=False)\n",
    "    groupby_ax.get_xaxis().set_ticks([])"
   ]
  },
  {
   "cell_type": "code",
   "execution_count": null,
   "id": "48efb492",
   "metadata": {},
   "outputs": [],
   "source": [
    "chosen_modules = [0,1,2,3,4,5,6]\n",
    "top_genes = 30\n",
    "plot_markers_vs_time(mod, adata, chosen_modules, top_genes, time_max = 110)"
   ]
  },
  {
   "cell_type": "code",
   "execution_count": null,
   "id": "75fd0a58",
   "metadata": {},
   "outputs": [],
   "source": []
  }
 ],
 "metadata": {
  "kernelspec": {
   "display_name": "Python [conda env:cell2fate_env]",
   "language": "python",
   "name": "conda-env-cell2fate_env-py"
  },
  "language_info": {
   "codemirror_mode": {
    "name": "ipython",
    "version": 3
   },
   "file_extension": ".py",
   "mimetype": "text/x-python",
   "name": "python",
   "nbconvert_exporter": "python",
   "pygments_lexer": "ipython3",
   "version": "3.9.12"
  }
 },
 "nbformat": 4,
 "nbformat_minor": 5
}
